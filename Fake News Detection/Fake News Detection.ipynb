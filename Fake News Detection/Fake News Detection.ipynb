import pandas as pd
from sklearn.feature_extraction.text import TfidfVectorizer
from sklearn.linear_model import PassiveAggressiveClassifier

# Load the train dataset (assuming you already have it)
train_df = pd.read_csv('/content/train.csv')

# Initialize TfidfVectorizer
tfidf_vectorizer = TfidfVectorizer(stop_words='english', max_df=0.7)

# Fit and transform on the entire train set
tfidf_train = tfidf_vectorizer.fit_transform(train_df['Statement'])

# Initialize Passive Aggressive Classifier
pac = PassiveAggressiveClassifier(max_iter=50)
pac.fit(tfidf_train, train_df['Label'])

# Function to classify user input
def classify_news(input_text):
    # Transform user input
    tfidf_input = tfidf_vectorizer.transform([input_text])
    # Predict on the input text
    prediction = pac.predict(tfidf_input)
    return prediction[0]

# Interactive loop to take user input and classify it
while True:
    user_input = input("Enter a news article (type 'exit' to quit): ")
    if user_input.lower() == 'exit':
        break
    prediction = classify_news(user_input)
    if prediction == 1:
        print("This news article is predicted to be FAKE.")
    else:
        print("This news article is predicted to be REAL.")
